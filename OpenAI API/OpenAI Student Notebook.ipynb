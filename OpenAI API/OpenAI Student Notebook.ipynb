{
 "cells": [
  {
   "cell_type": "markdown",
   "metadata": {},
   "source": [
    "## **Dependencies**"
   ]
  },
  {
   "cell_type": "markdown",
   "metadata": {},
   "source": [
    "Before using the code, ensure that the necessary dependencies are installed. In this case, we are using `pip` (Python's package manager) to install the `openai` package. `pip` is a command-line tool that allows you to easily install, upgrade, and manage Python libraries"
   ]
  },
  {
   "cell_type": "markdown",
   "metadata": {},
   "source": [
    "\n",
    "\n",
    "### Command Explanation\n",
    "- `%pip install -q openai`: \n",
    "- `%pip` ensures compatibility with Jupyter notebooks.\n",
    "- `install` is the command to add new packages.\n",
    "- `-q` suppresses the output for a cleaner notebook experience.\n",
    "- `openai` is the name of the package being installed.\n",
    "\n",
    "If the package is already installed, as shown by the message `Requirement already satisfied`, no action is needed."
   ]
  },
  {
   "cell_type": "code",
   "execution_count": 2,
   "metadata": {},
   "outputs": [
    {
     "name": "stdout",
     "output_type": "stream",
     "text": [
      "\n",
      "\u001b[1m[\u001b[0m\u001b[34;49mnotice\u001b[0m\u001b[1;39;49m]\u001b[0m\u001b[39;49m A new release of pip is available: \u001b[0m\u001b[31;49m24.2\u001b[0m\u001b[39;49m -> \u001b[0m\u001b[32;49m24.3.1\u001b[0m\n",
      "\u001b[1m[\u001b[0m\u001b[34;49mnotice\u001b[0m\u001b[1;39;49m]\u001b[0m\u001b[39;49m To update, run: \u001b[0m\u001b[32;49mpython -m pip install --upgrade pip\u001b[0m\n",
      "Note: you may need to restart the kernel to use updated packages.\n"
     ]
    }
   ],
   "source": [
    "%pip install -q openai"
   ]
  },
  {
   "cell_type": "markdown",
   "metadata": {},
   "source": [
    "## **API Keys**"
   ]
  },
  {
   "cell_type": "markdown",
   "metadata": {},
   "source": [
    "The API Key is a unique identifier (think of it as a password) that confirms our identity and gives us the ability to communicate with the OpenAI server to build our applications\n",
    "\n",
    "With the API Key, OpenAI can track the prompts and generated answers for them to bill us and monitor abuse.\n",
    "\n",
    "That being said, it is **important not to share any of your keys in public to prevent misuse by trolls or being accidentally billed**"
   ]
  },
  {
   "cell_type": "markdown",
   "metadata": {},
   "source": [
    "Head over to: https://platform.openai.com/api-keys and sign in if needed"
   ]
  },
  {
   "cell_type": "markdown",
   "metadata": {},
   "source": [
    "![APIDiagram](./Diagrams/API_Diagram.png)"
   ]
  },
  {
   "cell_type": "markdown",
   "metadata": {},
   "source": [
    "Copy the key that starts with `sk...` to a safe location (e.g. Notes / Google Keep). We will be using the key to connect to the OpenAI services for the rest of the course"
   ]
  },
  {
   "cell_type": "code",
   "execution_count": 9,
   "metadata": {},
   "outputs": [],
   "source": [
    "import getpass\n",
    "import os\n",
    "os.environ[\"OPENAI_API_KEY\"] = getpass.getpass(prompt = \"OPENAI API KEY\")"
   ]
  },
  {
   "cell_type": "markdown",
   "metadata": {},
   "source": [
    "## **Basics of the OpenAI API - User Prompting**"
   ]
  },
  {
   "cell_type": "markdown",
   "metadata": {},
   "source": [
    "In this section, we begin by importing the necessary components from the `openai` Python library. \n",
    "\n",
    "`from openai`: This imports the openai library, which provides tools and functions to interact with OpenAI's APIs.\n",
    "\n",
    "`import OpenAI`: This line attempts to import the OpenAI class or module from the `openai` library."
   ]
  },
  {
   "cell_type": "code",
   "execution_count": 10,
   "metadata": {},
   "outputs": [],
   "source": [
    "from openai import OpenAI"
   ]
  },
  {
   "cell_type": "markdown",
   "metadata": {},
   "source": [
    "We can begin to connect to the OpenAI servers by first instantiating the `OpenAI` class imported and assigning the instance to the variable: `client`"
   ]
  },
  {
   "cell_type": "code",
   "execution_count": 11,
   "metadata": {},
   "outputs": [],
   "source": [
    "client = OpenAI()"
   ]
  },
  {
   "cell_type": "markdown",
   "metadata": {},
   "source": [
    "With the connection, we can now prompt the different OpenAI [models](https://platform.openai.com/docs/models), assigning the results to a variable called `response`"
   ]
  },
  {
   "cell_type": "markdown",
   "metadata": {},
   "source": [
    "`client.chat.completions` is the API endpoint for creating chat-based completions with the `chat` interface, and the `create` method is used to send a request to OpenAI servers with our specified parameters and get a response:"
   ]
  },
  {
   "cell_type": "markdown",
   "metadata": {},
   "source": [
    "For all requests made, we will need to pass in two mandatory parameters:\n",
    "* `model`: Name of the model found [here](https://platform.openai.com/docs/models)\n",
    "* `messages`: List of dictionary (which represent a message) with the following keys:\n",
    "    * `role`: Either System, User or Assistant (will be discussed later)\n",
    "    * `content`: Prompt for that particular role"
   ]
  },
  {
   "cell_type": "code",
   "execution_count": 12,
   "metadata": {},
   "outputs": [],
   "source": [
    "response = client.chat.completions.create(\n",
    "    model = 'gpt-4o-mini',\n",
    "    messages = [\n",
    "        {'role': 'user', 'content': 'Is it difficult to learn AI?'}\n",
    "    ]\n",
    ")"
   ]
  },
  {
   "cell_type": "markdown",
   "metadata": {},
   "source": [
    "We get back a `ChatCompletions` object which we can slice with our Basic Python knowledge to get out our messages!"
   ]
  },
  {
   "cell_type": "code",
   "execution_count": 13,
   "metadata": {},
   "outputs": [
    {
     "name": "stdout",
     "output_type": "stream",
     "text": [
      "ChatCompletion(id='chatcmpl-AZCb7wrjTQDmjW8OPllS85w5YUBYx', choices=[Choice(finish_reason='stop', index=0, logprobs=None, message=ChatCompletionMessage(content='The difficulty of learning AI can vary significantly based on several factors, including your background, prior experience, and the depth of knowledge you wish to achieve. Here are a few considerations:\\n\\n1. **Background in Mathematics and Programming**:\\n   - A solid understanding of mathematics, particularly linear algebra, calculus, and statistics, is essential.\\n   - Proficiency in programming (commonly Python) is crucial, as much of AI development involves coding.\\n\\n2. **Prior Knowledge**:\\n   - If you have a background in computer science or data science, you may find it easier to grasp AI concepts.\\n   - Familiarity with machine learning concepts can also make learning AI easier.\\n\\n3. **Resources Available**:\\n   - There are abundant resources available, including online courses, textbooks, and tutorials. Some resources are beginner-friendly, while others are more advanced.\\n   - Access to practical projects, datasets, and coding environments can enhance your learning experience.\\n\\n4. **Level of Commitment**:\\n   - Learning AI is a significant commitment and requires consistent practice and study over time.\\n   - Engaging in hands-on projects and participating in AI communities can significantly aid learning.\\n\\n5. **Specialization**:\\n   - AI is a broad field that includes various subfields such as machine learning, natural language processing, and computer vision. Focusing on a specific area can simplify the learning process.\\n\\n6. **Continuous Learning**:\\n   - AI is a rapidly evolving field, so continuous learning is essential. Staying updated with the latest research and trends can be both challenging and rewarding.\\n\\nIn summary, while learning AI can be challenging, especially for those without a technical background, it is certainly achievable with the right resources, dedication, and practice. Many people from diverse backgrounds successfully learn and work in AI by starting with the basics and gradually progressing to more complex topics.', refusal=None, role='assistant', audio=None, function_call=None, tool_calls=None))], created=1732953269, model='gpt-4o-mini-2024-07-18', object='chat.completion', service_tier=None, system_fingerprint='fp_0705bf87c0', usage=CompletionUsage(completion_tokens=368, prompt_tokens=14, total_tokens=382, completion_tokens_details=CompletionTokensDetails(accepted_prediction_tokens=0, audio_tokens=0, reasoning_tokens=0, rejected_prediction_tokens=0), prompt_tokens_details=PromptTokensDetails(audio_tokens=0, cached_tokens=0)))\n",
      "[Choice(finish_reason='stop', index=0, logprobs=None, message=ChatCompletionMessage(content='The difficulty of learning AI can vary significantly based on several factors, including your background, prior experience, and the depth of knowledge you wish to achieve. Here are a few considerations:\\n\\n1. **Background in Mathematics and Programming**:\\n   - A solid understanding of mathematics, particularly linear algebra, calculus, and statistics, is essential.\\n   - Proficiency in programming (commonly Python) is crucial, as much of AI development involves coding.\\n\\n2. **Prior Knowledge**:\\n   - If you have a background in computer science or data science, you may find it easier to grasp AI concepts.\\n   - Familiarity with machine learning concepts can also make learning AI easier.\\n\\n3. **Resources Available**:\\n   - There are abundant resources available, including online courses, textbooks, and tutorials. Some resources are beginner-friendly, while others are more advanced.\\n   - Access to practical projects, datasets, and coding environments can enhance your learning experience.\\n\\n4. **Level of Commitment**:\\n   - Learning AI is a significant commitment and requires consistent practice and study over time.\\n   - Engaging in hands-on projects and participating in AI communities can significantly aid learning.\\n\\n5. **Specialization**:\\n   - AI is a broad field that includes various subfields such as machine learning, natural language processing, and computer vision. Focusing on a specific area can simplify the learning process.\\n\\n6. **Continuous Learning**:\\n   - AI is a rapidly evolving field, so continuous learning is essential. Staying updated with the latest research and trends can be both challenging and rewarding.\\n\\nIn summary, while learning AI can be challenging, especially for those without a technical background, it is certainly achievable with the right resources, dedication, and practice. Many people from diverse backgrounds successfully learn and work in AI by starting with the basics and gradually progressing to more complex topics.', refusal=None, role='assistant', audio=None, function_call=None, tool_calls=None))]\n",
      "Choice(finish_reason='stop', index=0, logprobs=None, message=ChatCompletionMessage(content='The difficulty of learning AI can vary significantly based on several factors, including your background, prior experience, and the depth of knowledge you wish to achieve. Here are a few considerations:\\n\\n1. **Background in Mathematics and Programming**:\\n   - A solid understanding of mathematics, particularly linear algebra, calculus, and statistics, is essential.\\n   - Proficiency in programming (commonly Python) is crucial, as much of AI development involves coding.\\n\\n2. **Prior Knowledge**:\\n   - If you have a background in computer science or data science, you may find it easier to grasp AI concepts.\\n   - Familiarity with machine learning concepts can also make learning AI easier.\\n\\n3. **Resources Available**:\\n   - There are abundant resources available, including online courses, textbooks, and tutorials. Some resources are beginner-friendly, while others are more advanced.\\n   - Access to practical projects, datasets, and coding environments can enhance your learning experience.\\n\\n4. **Level of Commitment**:\\n   - Learning AI is a significant commitment and requires consistent practice and study over time.\\n   - Engaging in hands-on projects and participating in AI communities can significantly aid learning.\\n\\n5. **Specialization**:\\n   - AI is a broad field that includes various subfields such as machine learning, natural language processing, and computer vision. Focusing on a specific area can simplify the learning process.\\n\\n6. **Continuous Learning**:\\n   - AI is a rapidly evolving field, so continuous learning is essential. Staying updated with the latest research and trends can be both challenging and rewarding.\\n\\nIn summary, while learning AI can be challenging, especially for those without a technical background, it is certainly achievable with the right resources, dedication, and practice. Many people from diverse backgrounds successfully learn and work in AI by starting with the basics and gradually progressing to more complex topics.', refusal=None, role='assistant', audio=None, function_call=None, tool_calls=None))\n",
      "ChatCompletionMessage(content='The difficulty of learning AI can vary significantly based on several factors, including your background, prior experience, and the depth of knowledge you wish to achieve. Here are a few considerations:\\n\\n1. **Background in Mathematics and Programming**:\\n   - A solid understanding of mathematics, particularly linear algebra, calculus, and statistics, is essential.\\n   - Proficiency in programming (commonly Python) is crucial, as much of AI development involves coding.\\n\\n2. **Prior Knowledge**:\\n   - If you have a background in computer science or data science, you may find it easier to grasp AI concepts.\\n   - Familiarity with machine learning concepts can also make learning AI easier.\\n\\n3. **Resources Available**:\\n   - There are abundant resources available, including online courses, textbooks, and tutorials. Some resources are beginner-friendly, while others are more advanced.\\n   - Access to practical projects, datasets, and coding environments can enhance your learning experience.\\n\\n4. **Level of Commitment**:\\n   - Learning AI is a significant commitment and requires consistent practice and study over time.\\n   - Engaging in hands-on projects and participating in AI communities can significantly aid learning.\\n\\n5. **Specialization**:\\n   - AI is a broad field that includes various subfields such as machine learning, natural language processing, and computer vision. Focusing on a specific area can simplify the learning process.\\n\\n6. **Continuous Learning**:\\n   - AI is a rapidly evolving field, so continuous learning is essential. Staying updated with the latest research and trends can be both challenging and rewarding.\\n\\nIn summary, while learning AI can be challenging, especially for those without a technical background, it is certainly achievable with the right resources, dedication, and practice. Many people from diverse backgrounds successfully learn and work in AI by starting with the basics and gradually progressing to more complex topics.', refusal=None, role='assistant', audio=None, function_call=None, tool_calls=None)\n",
      "The difficulty of learning AI can vary significantly based on several factors, including your background, prior experience, and the depth of knowledge you wish to achieve. Here are a few considerations:\n",
      "\n",
      "1. **Background in Mathematics and Programming**:\n",
      "   - A solid understanding of mathematics, particularly linear algebra, calculus, and statistics, is essential.\n",
      "   - Proficiency in programming (commonly Python) is crucial, as much of AI development involves coding.\n",
      "\n",
      "2. **Prior Knowledge**:\n",
      "   - If you have a background in computer science or data science, you may find it easier to grasp AI concepts.\n",
      "   - Familiarity with machine learning concepts can also make learning AI easier.\n",
      "\n",
      "3. **Resources Available**:\n",
      "   - There are abundant resources available, including online courses, textbooks, and tutorials. Some resources are beginner-friendly, while others are more advanced.\n",
      "   - Access to practical projects, datasets, and coding environments can enhance your learning experience.\n",
      "\n",
      "4. **Level of Commitment**:\n",
      "   - Learning AI is a significant commitment and requires consistent practice and study over time.\n",
      "   - Engaging in hands-on projects and participating in AI communities can significantly aid learning.\n",
      "\n",
      "5. **Specialization**:\n",
      "   - AI is a broad field that includes various subfields such as machine learning, natural language processing, and computer vision. Focusing on a specific area can simplify the learning process.\n",
      "\n",
      "6. **Continuous Learning**:\n",
      "   - AI is a rapidly evolving field, so continuous learning is essential. Staying updated with the latest research and trends can be both challenging and rewarding.\n",
      "\n",
      "In summary, while learning AI can be challenging, especially for those without a technical background, it is certainly achievable with the right resources, dedication, and practice. Many people from diverse backgrounds successfully learn and work in AI by starting with the basics and gradually progressing to more complex topics.\n"
     ]
    }
   ],
   "source": [
    "print(response)\n",
    "print(response.choices)\n",
    "print(response.choices[0])\n",
    "print(response.choices[0].message)\n",
    "print(response.choices[0].message.content)"
   ]
  },
  {
   "cell_type": "markdown",
   "metadata": {},
   "source": [
    "## **Basics of the OpenAI API - Prompting with Roles**"
   ]
  },
  {
   "cell_type": "markdown",
   "metadata": {},
   "source": [
    "*From OpenAI:*\n",
    "\n",
    "**System Role:**\n",
    "Messages with the system role act as top-level instructions to the model, and typically describe what the model is supposed to do and how it should generally behave and respond.\n",
    "\n",
    "*From OpenAI Forum:*\n",
    "\n",
    "**User Role:**\n",
    "Messages with the user role act as queries to the model\n",
    "\n",
    "*From OpenAI:*\n",
    "\n",
    "**Assistant Role:**\n",
    "Messages with the assistant role are presumed to have been generated by the model, perhaps in a previous generation request and acts as memory for the conversation."
   ]
  },
  {
   "cell_type": "code",
   "execution_count": 14,
   "metadata": {},
   "outputs": [],
   "source": [
    "from openai import OpenAI\n",
    "client = OpenAI()"
   ]
  },
  {
   "cell_type": "markdown",
   "metadata": {},
   "source": [
    "The example below will show how to get the model to reply to all of your questions in Singlish with the `system` role"
   ]
  },
  {
   "cell_type": "code",
   "execution_count": 15,
   "metadata": {},
   "outputs": [
    {
     "name": "stdout",
     "output_type": "stream",
     "text": [
      "Aiyo, Singapore weather so hot and humid one, really unbearable leh! One moment can be sunny sunny, then suddenly rain like nobody’s business. Then the next moment, you step out, your shirt already sticking to you like glue. Sometimes need to carry umbrella, sometimes need to wear shades, so headache! Wish can have more cooling weather lah, or maybe some nice breeze will be good, then we all can enjoy outdoor activities better, not stuck inside aircon all the time!\n"
     ]
    }
   ],
   "source": [
    "response = client.chat.completions.create(\n",
    "    model = 'gpt-4o-mini',\n",
    "    messages = [\n",
    "        {'role': 'system', 'content': 'You will reply all responses in Singlish'},\n",
    "        {'role': 'user', 'content': 'Complain about the Singapore weather'}\n",
    "    ]\n",
    ")\n",
    "print(response.choices[0].message.content)"
   ]
  },
  {
   "cell_type": "code",
   "execution_count": 16,
   "metadata": {},
   "outputs": [
    {
     "name": "stdout",
     "output_type": "stream",
     "text": [
      "Wah, inflation in Singapore like got no end, siah! Everything also kena increase price, from hawker food to MRT fare. Last time can buy chicken rice for below $5, now must pay near $7, or even more! Pocketer so pain, have to budget everywhere. And don’t even talk about groceries, a lot of things also more expensive, feel like my salary just disappear like that. Need to find ways to save money, but damn difficult, man. Hope things stabilize soon, if not will really be very jia lat!\n"
     ]
    }
   ],
   "source": [
    "response_new = client.chat.completions.create(\n",
    "    model = 'gpt-4o-mini',\n",
    "    messages = [\n",
    "        {'role': 'system', 'content': 'You will reply all responses in Singlish'},\n",
    "        {'role': 'user', 'content': 'Complain about the Singapore weather'},\n",
    "        {'role': 'assistant', 'content': 'Aiyo, Singapore weather so hot and humid one, really unbearable leh! One moment can be sunny sunny, then suddenly rain like nobody’s business. Then the next moment, you step out, your shirt already sticking to you like glue. Sometimes need to carry umbrella, sometimes need to wear shades, so headache! Wish can have more cooling weather lah, or maybe some nice breeze will be good, then we all can enjoy outdoor activities better, not stuck inside aircon all the time!'},\n",
    "        {'role': 'user', 'content': 'Complain about the inflation in Singapore'}\n",
    "    ]\n",
    ")\n",
    "print(response_new.choices[0].message.content)"
   ]
  },
  {
   "cell_type": "markdown",
   "metadata": {},
   "source": [
    "## **Project 1: Chatbot Development**"
   ]
  },
  {
   "cell_type": "markdown",
   "metadata": {},
   "source": [
    "With the knowledge you have learned about the roles, write a chatbot program with a predefined system role to reply to any responses in a sarcastic manner.\n",
    "\n",
    "The chatbot needs to:\n",
    "* Continously prompt the user for a question\n",
    "* Update the list of messages with the user's questions and model responses\n",
    "* Allow the user to input `q` to quit"
   ]
  },
  {
   "cell_type": "code",
   "execution_count": null,
   "metadata": {},
   "outputs": [],
   "source": [
    "# Define an empty list to store the conversation history\n",
    "messages = [{'role': 'system', 'content': 'Reply to all queries in a sarcastic manner'}]\n",
    "\n",
    "# Start a while loop to continuously ask the user for input\n",
    "while True:\n",
    "    # Prompt the user for a question\n",
    "    question = input(\"Enter your question here. Enter (q) to quit: \")\n",
    "    \n",
    "    # Exit the loop if the user inputs 'q'\n",
    "    if question.lower() == 'q':\n",
    "        print(\"Exiting the chat. Goodbye!\")\n",
    "        break\n",
    "    \n",
    "    # Append the user's question to the messages list\n",
    "    messages.append({'role': 'user', 'content': question})\n",
    "    \n",
    "    try:\n",
    "        # Send the request to OpenAI's servers using the chat endpoint\n",
    "        response = client.chat.completions.create(\n",
    "            model='gpt-4o-mini',  # Use the model you want to query\n",
    "            messages=messages     # Provide the conversation history\n",
    "        )\n",
    "        \n",
    "        # Extract and print the AI's response\n",
    "        reply = response.choices[0].message.content\n",
    "        print(f\"AI: {reply}\")\n",
    "        \n",
    "        # Append the AI's response to the messages list\n",
    "        messages.append({'role': 'assistant', 'content': reply})\n",
    "    \n",
    "    except Exception as e:\n",
    "        # Handle potential errors (e.g., API connection issues)\n",
    "        print(f\"An error occurred: {e}\")\n"
   ]
  }
 ],
 "metadata": {
  "kernelspec": {
   "display_name": "Python 3",
   "language": "python",
   "name": "python3"
  },
  "language_info": {
   "codemirror_mode": {
    "name": "ipython",
    "version": 3
   },
   "file_extension": ".py",
   "mimetype": "text/x-python",
   "name": "python",
   "nbconvert_exporter": "python",
   "pygments_lexer": "ipython3",
   "version": "3.12.1"
  }
 },
 "nbformat": 4,
 "nbformat_minor": 2
}
